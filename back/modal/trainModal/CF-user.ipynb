{
 "cells": [
  {
   "cell_type": "code",
   "execution_count": 1,
   "metadata": {
    "collapsed": true
   },
   "outputs": [],
   "source": [
    "import pandas as pd\n",
    "import numpy as np\n",
    "from sklearn.metrics.pairwise import cosine_similarity\n",
    "from collections import defaultdict"
   ]
  },
  {
   "cell_type": "markdown",
   "source": [
    "### 构建数据集合"
   ],
   "metadata": {
    "collapsed": false
   }
  },
  {
   "cell_type": "code",
   "execution_count": 40,
   "outputs": [
    {
     "data": {
      "text/plain": "   email                     collections\n0  user1  [1, 3, 5, 7, 8, 9, 12, 71, 87]\n1  user2  [2, 3, 4, 6, 7, 8, 11, 72, 99]\n2  user3         [1, 2, 5, 4, 9, 12, 99]\n3  user4           [3, 4, 9, 10, 11, 87]\n4  user5            [1, 3, 7, 9, 13, 99]",
      "text/html": "<div>\n<style scoped>\n    .dataframe tbody tr th:only-of-type {\n        vertical-align: middle;\n    }\n\n    .dataframe tbody tr th {\n        vertical-align: top;\n    }\n\n    .dataframe thead th {\n        text-align: right;\n    }\n</style>\n<table border=\"1\" class=\"dataframe\">\n  <thead>\n    <tr style=\"text-align: right;\">\n      <th></th>\n      <th>email</th>\n      <th>collections</th>\n    </tr>\n  </thead>\n  <tbody>\n    <tr>\n      <th>0</th>\n      <td>user1</td>\n      <td>[1, 3, 5, 7, 8, 9, 12, 71, 87]</td>\n    </tr>\n    <tr>\n      <th>1</th>\n      <td>user2</td>\n      <td>[2, 3, 4, 6, 7, 8, 11, 72, 99]</td>\n    </tr>\n    <tr>\n      <th>2</th>\n      <td>user3</td>\n      <td>[1, 2, 5, 4, 9, 12, 99]</td>\n    </tr>\n    <tr>\n      <th>3</th>\n      <td>user4</td>\n      <td>[3, 4, 9, 10, 11, 87]</td>\n    </tr>\n    <tr>\n      <th>4</th>\n      <td>user5</td>\n      <td>[1, 3, 7, 9, 13, 99]</td>\n    </tr>\n  </tbody>\n</table>\n</div>"
     },
     "execution_count": 40,
     "metadata": {},
     "output_type": "execute_result"
    }
   ],
   "source": [
    "# 模拟数据集\n",
    "data = {\n",
    "    \"email\": [\"user1\", \"user2\", \"user3\", \"user4\", \"user5\"],\n",
    "    \"collections\": [\n",
    "        [1, 3, 5, 7, 8, 9, 12, 71, 87],  # 用户1收藏的项目ID\n",
    "        [2, 3, 4, 6 ,7 ,8, 11, 72, 99],  # 用户2收藏的项目ID\n",
    "        [1, 2, 5, 4, 9, 12, 99],  # 用户3收藏的项目ID\n",
    "        [3, 4, 9, 10, 11, 87],   # 用户4收藏的项目ID\n",
    "        [1, 3, 7, 9 ,13, 99] # 用户5收藏的项目ID\n",
    "    ]\n",
    "}\n",
    "\n",
    "# 将数据转换为DataFrame\n",
    "df = pd.DataFrame(data)\n",
    "df"
   ],
   "metadata": {
    "collapsed": false,
    "pycharm": {
     "name": "#%%\n"
    }
   }
  },
  {
   "cell_type": "markdown",
   "source": [
    "### 构建用户－项目矩阵"
   ],
   "metadata": {
    "collapsed": false
   }
  },
  {
   "cell_type": "code",
   "execution_count": 30,
   "outputs": [
    {
     "name": "stdout",
     "output_type": "stream",
     "text": [
      "用户-项目矩阵：\n",
      "       1   2   3   4   5   6   7   8   9   71  11  12  72  10  13  99  87\n",
      "user1   1   0   1   0   1   0   1   1   1   1   0   1   0   0   0   0   1\n",
      "user2   0   1   1   1   0   1   1   1   0   0   1   0   1   0   0   1   0\n",
      "user3   1   1   0   1   1   0   0   0   1   0   0   1   0   0   0   1   0\n",
      "user4   0   0   1   1   0   0   0   0   1   0   1   0   0   1   0   0   1\n",
      "user5   1   0   1   0   0   0   1   0   1   0   0   0   0   0   1   1   0\n"
     ]
    }
   ],
   "source": [
    "# 构建用户-项目矩阵\n",
    "def build_user_item_matrix(df):\n",
    "    all_items = set(item for sublist in df['collections'] for item in sublist)\n",
    "    user_item_matrix = {}\n",
    "    for _, row in df.iterrows():\n",
    "        email = row['email']\n",
    "        collections = set(row['collections'])\n",
    "        user_vector = {item: 1 if item in collections else 0 for item in all_items}\n",
    "        user_item_matrix[email] = user_vector\n",
    "    return pd.DataFrame(user_item_matrix).T\n",
    "\n",
    "user_item_matrix = build_user_item_matrix(df)\n",
    "print(\"用户-项目矩阵：\")\n",
    "print(user_item_matrix)"
   ],
   "metadata": {
    "collapsed": false,
    "pycharm": {
     "name": "#%%\n"
    }
   }
  },
  {
   "cell_type": "markdown",
   "source": [
    "### 基于用户协同过滤的推荐算法"
   ],
   "metadata": {
    "collapsed": false
   }
  },
  {
   "cell_type": "code",
   "execution_count": 37,
   "outputs": [
    {
     "name": "stdout",
     "output_type": "stream",
     "text": [
      "\n",
      "为用户 user5 推荐的项目：\n",
      "项目 5 (推荐分数: 1.01)\n",
      "项目 12 (推荐分数: 1.01)\n",
      "项目 8 (推荐分数: 0.95)\n",
      "项目 2 (推荐分数: 0.87)\n",
      "项目 4 (推荐分数: 0.87)\n",
      "项目 71 (推荐分数: 0.54)\n",
      "项目 87 (推荐分数: 0.54)\n",
      "项目 6 (推荐分数: 0.41)\n",
      "项目 72 (推荐分数: 0.41)\n",
      "项目 11 (推荐分数: 0.41)\n"
     ]
    }
   ],
   "source": [
    "# 基于用户的协同过滤推荐算法\n",
    "def recommend_items(user_id, user_item_matrix, top_n=5, k_neighbors=3):\n",
    "    # Step 1: 计算目标用户与其他用户之间的相似度\n",
    "    target_user_vector = user_item_matrix.loc[user_id].values.reshape(1, -1)\n",
    "    similarities = {}\n",
    "    for other_user in user_item_matrix.index:\n",
    "        if other_user != user_id:\n",
    "            other_user_vector = user_item_matrix.loc[other_user].values.reshape(1, -1)\n",
    "            similarity = cosine_similarity(target_user_vector, other_user_vector)[0][0]\n",
    "            similarities[other_user] = similarity\n",
    "\n",
    "    # Step 2: 找到最相似的K个用户\n",
    "    similar_users = sorted(similarities.items(), key=lambda x: x[1], reverse=True)[:k_neighbors]\n",
    "\n",
    "    # Step 3: 收集相似用户收藏但目标用户未收藏的项目\n",
    "    recommendations = defaultdict(float)\n",
    "    target_user_items = set(user_item_matrix.columns[user_item_matrix.loc[user_id] == 1])\n",
    "    for other_user, similarity_score in similar_users:\n",
    "        other_user_items = set(user_item_matrix.columns[user_item_matrix.loc[other_user] == 1])\n",
    "        for item in other_user_items - target_user_items:\n",
    "            recommendations[item] += similarity_score\n",
    "\n",
    "    # Step 4: 按权重排序，返回前N个推荐项目\n",
    "    return sorted(recommendations.items(), key=lambda x: x[1], reverse=True)[:top_n]\n",
    "\n",
    "# 示例：为目标用户生成推荐\n",
    "target_user = \"user5\"\n",
    "recommendations = recommend_items(target_user, user_item_matrix, top_n=10)\n",
    "print(f\"\\n为用户 {target_user} 推荐的项目：\")\n",
    "for item, score in recommendations:\n",
    "    print(f\"项目 {item} (推荐分数: {score:.2f})\")"
   ],
   "metadata": {
    "collapsed": false,
    "pycharm": {
     "name": "#%%\n"
    }
   }
  },
  {
   "cell_type": "markdown",
   "source": [
    "### 性能评估"
   ],
   "metadata": {
    "collapsed": false
   }
  },
  {
   "cell_type": "code",
   "execution_count": 36,
   "outputs": [
    {
     "name": "stdout",
     "output_type": "stream",
     "text": [
      "\n",
      "平均准确率: 0.00, 平均召回率: 0.00\n"
     ]
    }
   ],
   "source": [
    "# 性能评估（可选）\n",
    "def evaluate_recommendation(df, user_item_matrix, top_n=5, k_neighbors=3):\n",
    "    precision_scores = []\n",
    "    recall_scores = []\n",
    "\n",
    "    for _, row in df.iterrows():\n",
    "        user_id = row['email']\n",
    "        true_items = set(row['collections'])\n",
    "        recommended_items = set(item for item, _ in recommend_items(user_id, user_item_matrix, top_n, k_neighbors))\n",
    "\n",
    "        # 计算准确率和召回率\n",
    "        if len(recommended_items) > 0:\n",
    "            precision = len(true_items & recommended_items) / len(recommended_items)\n",
    "            recall = len(true_items & recommended_items) / len(true_items) if len(true_items) > 0 else 0\n",
    "            precision_scores.append(precision)\n",
    "            recall_scores.append(recall)\n",
    "\n",
    "    avg_precision = np.mean(precision_scores)\n",
    "    avg_recall = np.mean(recall_scores)\n",
    "    return avg_precision, avg_recall\n",
    "\n",
    "avg_precision, avg_recall = evaluate_recommendation(df, user_item_matrix, top_n=3)\n",
    "print(f\"\\n平均准确率: {avg_precision:.2f}, 平均召回率: {avg_recall:.2f}\")"
   ],
   "metadata": {
    "collapsed": false,
    "pycharm": {
     "name": "#%%\n"
    }
   }
  },
  {
   "cell_type": "code",
   "execution_count": null,
   "outputs": [],
   "source": [],
   "metadata": {
    "collapsed": false,
    "pycharm": {
     "name": "#%%\n"
    }
   }
  }
 ],
 "metadata": {
  "kernelspec": {
   "display_name": "Python 3",
   "language": "python",
   "name": "python3"
  },
  "language_info": {
   "codemirror_mode": {
    "name": "ipython",
    "version": 2
   },
   "file_extension": ".py",
   "mimetype": "text/x-python",
   "name": "python",
   "nbconvert_exporter": "python",
   "pygments_lexer": "ipython2",
   "version": "2.7.6"
  }
 },
 "nbformat": 4,
 "nbformat_minor": 0
}